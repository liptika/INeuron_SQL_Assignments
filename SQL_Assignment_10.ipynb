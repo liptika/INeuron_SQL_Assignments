{
 "cells": [
  {
   "cell_type": "markdown",
   "id": "be0549ef",
   "metadata": {},
   "source": [
    "### Q-19. Write an SQL query to determine the 5th highest salary without using TOP or limit method."
   ]
  },
  {
   "cell_type": "code",
   "execution_count": null,
   "id": "58fb628a",
   "metadata": {},
   "outputs": [],
   "source": [
    "select salary\n",
    "from \n",
    "(select row_number() over (order by salary desc) as rownumber, salary \n",
    "from Employee) as result\n",
    "where rownumber = 5;"
   ]
  },
  {
   "cell_type": "markdown",
   "id": "4d2d7c2d",
   "metadata": {},
   "source": [
    "### Q-20. Write an SQL query to fetch the list of employees with the same salary."
   ]
  },
  {
   "cell_type": "code",
   "execution_count": null,
   "id": "161ba0f8",
   "metadata": {},
   "outputs": [],
   "source": [
    "select a.name, b.name\n",
    "from Employee a, Employee b\n",
    "where a.salary = b.salary and a.name != b.name;"
   ]
  }
 ],
 "metadata": {
  "kernelspec": {
   "display_name": "Python 3",
   "language": "python",
   "name": "python3"
  },
  "language_info": {
   "codemirror_mode": {
    "name": "ipython",
    "version": 3
   },
   "file_extension": ".py",
   "mimetype": "text/x-python",
   "name": "python",
   "nbconvert_exporter": "python",
   "pygments_lexer": "ipython3",
   "version": "3.8.8"
  }
 },
 "nbformat": 4,
 "nbformat_minor": 5
}
