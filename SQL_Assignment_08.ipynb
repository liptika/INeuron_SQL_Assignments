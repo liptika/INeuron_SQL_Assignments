{
 "cells": [
  {
   "cell_type": "markdown",
   "id": "e3a51007",
   "metadata": {},
   "source": [
    "### Q-15. Write an SQL query to fetch intersecting records of two tables."
   ]
  },
  {
   "cell_type": "code",
   "execution_count": null,
   "id": "c45fece7",
   "metadata": {},
   "outputs": [],
   "source": [
    "select *\n",
    "from first_table f join second_table s on f.id = s.fid;"
   ]
  },
  {
   "cell_type": "markdown",
   "id": "e346260f",
   "metadata": {},
   "source": [
    "### Q-16. Write an SQL query to show records from one table that another table does not have."
   ]
  },
  {
   "cell_type": "code",
   "execution_count": null,
   "id": "745b7ecf",
   "metadata": {},
   "outputs": [],
   "source": [
    "select * FROM Customers\n",
    "where CustomerID not in\n",
    "(select c.CustomerID \n",
    "from Customers c join Orders o\n",
    "on c.CustomerID = o.CustomerID);"
   ]
  }
 ],
 "metadata": {
  "kernelspec": {
   "display_name": "Python 3",
   "language": "python",
   "name": "python3"
  },
  "language_info": {
   "codemirror_mode": {
    "name": "ipython",
    "version": 3
   },
   "file_extension": ".py",
   "mimetype": "text/x-python",
   "name": "python",
   "nbconvert_exporter": "python",
   "pygments_lexer": "ipython3",
   "version": "3.8.8"
  }
 },
 "nbformat": 4,
 "nbformat_minor": 5
}
