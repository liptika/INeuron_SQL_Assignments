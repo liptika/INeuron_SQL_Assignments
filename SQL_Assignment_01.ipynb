{
 "cells": [
  {
   "cell_type": "markdown",
   "id": "5f62c7d8",
   "metadata": {},
   "source": [
    "### Q-1. Write an SQL query to fetch “FIRST_NAME” from Worker table using the alias name as WORKER_NAME."
   ]
  },
  {
   "cell_type": "code",
   "execution_count": null,
   "id": "80653381",
   "metadata": {},
   "outputs": [],
   "source": [
    "select FIRST_NAME as WORKER_NAME\n",
    "from Worker;"
   ]
  },
  {
   "cell_type": "markdown",
   "id": "90790e5e",
   "metadata": {},
   "source": [
    "### Q-2. Write an SQL query to fetch unique values of DEPARTMENT from Worker table."
   ]
  },
  {
   "cell_type": "code",
   "execution_count": null,
   "id": "287534f6",
   "metadata": {},
   "outputs": [],
   "source": [
    "select distinct(DEPARTMENT)\n",
    "from Worker;"
   ]
  },
  {
   "cell_type": "markdown",
   "id": "e3e1d015",
   "metadata": {},
   "source": [
    "### Q-3. Write an SQL query to show the last 5 record from a table."
   ]
  },
  {
   "cell_type": "code",
   "execution_count": null,
   "id": "83e5aa4a",
   "metadata": {},
   "outputs": [],
   "source": [
    "select * \n",
    "from Worker\n",
    "order by id limit 5;"
   ]
  }
 ],
 "metadata": {
  "kernelspec": {
   "display_name": "Python 3",
   "language": "python",
   "name": "python3"
  },
  "language_info": {
   "codemirror_mode": {
    "name": "ipython",
    "version": 3
   },
   "file_extension": ".py",
   "mimetype": "text/x-python",
   "name": "python",
   "nbconvert_exporter": "python",
   "pygments_lexer": "ipython3",
   "version": "3.8.8"
  }
 },
 "nbformat": 4,
 "nbformat_minor": 5
}
