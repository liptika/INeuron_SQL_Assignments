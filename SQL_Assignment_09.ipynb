{
 "cells": [
  {
   "cell_type": "markdown",
   "id": "2d34e20b",
   "metadata": {},
   "source": [
    "### Q-17. Write an SQL query to show the top n (say 10) records of a table."
   ]
  },
  {
   "cell_type": "code",
   "execution_count": null,
   "id": "de31a16b",
   "metadata": {},
   "outputs": [],
   "source": [
    "select * \n",
    "from table_name\n",
    "limit n;"
   ]
  },
  {
   "cell_type": "markdown",
   "id": "c42aa6d0",
   "metadata": {},
   "source": [
    "### Q-18. Write an SQL query to determine the nth (say n=5) highest salary from a table."
   ]
  },
  {
   "cell_type": "code",
   "execution_count": null,
   "id": "2d74f70d",
   "metadata": {},
   "outputs": [],
   "source": [
    "select min(salary)\n",
    "from (select salary from table_name order by salary desc limit n) as result;"
   ]
  }
 ],
 "metadata": {
  "kernelspec": {
   "display_name": "Python 3",
   "language": "python",
   "name": "python3"
  },
  "language_info": {
   "codemirror_mode": {
    "name": "ipython",
    "version": 3
   },
   "file_extension": ".py",
   "mimetype": "text/x-python",
   "name": "python",
   "nbconvert_exporter": "python",
   "pygments_lexer": "ipython3",
   "version": "3.8.8"
  }
 },
 "nbformat": 4,
 "nbformat_minor": 5
}
