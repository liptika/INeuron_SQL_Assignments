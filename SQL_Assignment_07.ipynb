{
 "cells": [
  {
   "cell_type": "markdown",
   "id": "dd09c9a8",
   "metadata": {},
   "source": [
    "### Q-13. Write an SQL query to show only odd rows from a table."
   ]
  },
  {
   "cell_type": "code",
   "execution_count": null,
   "id": "b0c572f5",
   "metadata": {},
   "outputs": [],
   "source": [
    "select * \n",
    "from table_name\n",
    "where id%2 != 0;"
   ]
  },
  {
   "cell_type": "markdown",
   "id": "bd11e9f8",
   "metadata": {},
   "source": [
    "### Q-14. Write an SQL query to clone a new table from another table."
   ]
  },
  {
   "cell_type": "code",
   "execution_count": null,
   "id": "e8100f12",
   "metadata": {},
   "outputs": [],
   "source": [
    "create table copy_table select * from existing_table;"
   ]
  }
 ],
 "metadata": {
  "kernelspec": {
   "display_name": "Python 3",
   "language": "python",
   "name": "python3"
  },
  "language_info": {
   "codemirror_mode": {
    "name": "ipython",
    "version": 3
   },
   "file_extension": ".py",
   "mimetype": "text/x-python",
   "name": "python",
   "nbconvert_exporter": "python",
   "pygments_lexer": "ipython3",
   "version": "3.8.8"
  }
 },
 "nbformat": 4,
 "nbformat_minor": 5
}
