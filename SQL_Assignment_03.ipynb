{
 "cells": [
  {
   "cell_type": "markdown",
   "id": "d9ce352e",
   "metadata": {},
   "source": [
    "### Q-1. Write an SQL query to print the FIRST_NAME from Worker table after removing white spaces from the right side."
   ]
  },
  {
   "cell_type": "code",
   "execution_count": null,
   "id": "d86677de",
   "metadata": {},
   "outputs": [],
   "source": [
    "select rtrim(FIRST_NAME)\n",
    "from Worker"
   ]
  },
  {
   "cell_type": "markdown",
   "id": "d450e445",
   "metadata": {},
   "source": [
    "### Q-2. Write an SQL query that fetches the unique values of DEPARTMENT from Worker table and prints its length."
   ]
  },
  {
   "cell_type": "code",
   "execution_count": null,
   "id": "ee9c3c4a",
   "metadata": {},
   "outputs": [],
   "source": [
    "select distinct length(DEPARTMENT)\n",
    "from Worker"
   ]
  },
  {
   "cell_type": "markdown",
   "id": "b72a8014",
   "metadata": {},
   "source": [
    "### Q-3. Write an SQL query to fetch nth max salaries from a table."
   ]
  },
  {
   "cell_type": "code",
   "execution_count": null,
   "id": "961edcef",
   "metadata": {},
   "outputs": [],
   "source": [
    "select min(salary)\n",
    "from \n",
    "(select distinct salary from employee order by salary desc limit n) as result;"
   ]
  }
 ],
 "metadata": {
  "kernelspec": {
   "display_name": "Python 3",
   "language": "python",
   "name": "python3"
  },
  "language_info": {
   "codemirror_mode": {
    "name": "ipython",
    "version": 3
   },
   "file_extension": ".py",
   "mimetype": "text/x-python",
   "name": "python",
   "nbconvert_exporter": "python",
   "pygments_lexer": "ipython3",
   "version": "3.8.8"
  }
 },
 "nbformat": 4,
 "nbformat_minor": 5
}
