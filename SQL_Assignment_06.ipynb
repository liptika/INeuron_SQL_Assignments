{
 "cells": [
  {
   "cell_type": "markdown",
   "id": "dbc240ac",
   "metadata": {},
   "source": [
    "### Q-1. Write an SQL query to print details of the Workers who have joined in Feb’2014."
   ]
  },
  {
   "cell_type": "code",
   "execution_count": null,
   "id": "7aeda36c",
   "metadata": {},
   "outputs": [],
   "source": [
    "select * \n",
    "from Worker \n",
    "where year(JOINING_DATE) = 2014 and monthname(JOINING_DATE) = 'February';"
   ]
  },
  {
   "cell_type": "markdown",
   "id": "07683385",
   "metadata": {},
   "source": [
    "### Q-2. Write an SQL query to fetch duplicate records having matching data in some fields of a table."
   ]
  },
  {
   "cell_type": "code",
   "execution_count": null,
   "id": "c6c2f3aa",
   "metadata": {},
   "outputs": [],
   "source": [
    "select Col_Name, count(Col_Name)\n",
    "FROM table_name\n",
    "group by Col_Name\n",
    "having count(Col_Name) > 1;"
   ]
  },
  {
   "cell_type": "markdown",
   "id": "be9a9d89",
   "metadata": {},
   "source": [
    "### Q-3. How to remove duplicate rows from Employees table."
   ]
  },
  {
   "cell_type": "code",
   "execution_count": null,
   "id": "93786f17",
   "metadata": {},
   "outputs": [],
   "source": [
    "delete e1 from Employees e1, Employees e2 \n",
    "where e1.id > e2.id and e1.email = e2.email"
   ]
  }
 ],
 "metadata": {
  "kernelspec": {
   "display_name": "Python 3",
   "language": "python",
   "name": "python3"
  },
  "language_info": {
   "codemirror_mode": {
    "name": "ipython",
    "version": 3
   },
   "file_extension": ".py",
   "mimetype": "text/x-python",
   "name": "python",
   "nbconvert_exporter": "python",
   "pygments_lexer": "ipython3",
   "version": "3.8.8"
  }
 },
 "nbformat": 4,
 "nbformat_minor": 5
}
